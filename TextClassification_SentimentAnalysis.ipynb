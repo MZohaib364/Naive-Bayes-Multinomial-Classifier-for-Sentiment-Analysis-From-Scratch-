{
  "cells": [
    {
      "cell_type": "markdown",
      "metadata": {
        "id": "YXwl0BDUWZey"
      },
      "source": [
        "\n",
        "Text Classification (Sentiment Analysis) Using Bayes Rule\n",
        "==============\n",
        "\n",
        "\n",
        "## Goal\n",
        "\n",
        "Your goal in this part of assigment is to implement a Naive Bayes Multinomial classifier using  bag of words model for the classification of text (movie reviews) into different categories..\n",
        "\n",
        "**Note** Please note that you are allowed to use only those libraries which we have discussed in the class, i.e. numpy, scipy, pandas.\n",
        "\n",
        "Once you have build and test the model on the provided dataset. You will use the learned techniques to compete in a [Kaggle](https://www.kaggle.com/c/word2vec-nlp-tutorial) competition and report your final score and leaderboard ranking to get full credit.\n"
      ]
    },
    {
      "cell_type": "code",
      "execution_count": 1,
      "metadata": {
        "colab": {
          "base_uri": "https://localhost:8080/"
        },
        "id": "xEOePyZoA7pZ",
        "outputId": "a28ad08d-6525-46a7-f239-c933d1035b45"
      },
      "outputs": [
        {
          "name": "stdout",
          "output_type": "stream",
          "text": [
            "Collecting nose\n",
            "  Downloading nose-1.3.7-py3-none-any.whl.metadata (1.7 kB)\n",
            "Downloading nose-1.3.7-py3-none-any.whl (154 kB)\n",
            "\u001b[?25l   \u001b[90m━━━━━━━━━━━━━━━━━━━━━━━━━━━━━━━━━━━━━━━━\u001b[0m \u001b[32m0.0/154.7 kB\u001b[0m \u001b[31m?\u001b[0m eta \u001b[36m-:--:--\u001b[0m\r\u001b[2K   \u001b[91m━━━━━━━━━━━━━━━━━━━━━━━━━━━━━━━━━━━━━━━\u001b[0m\u001b[91m╸\u001b[0m \u001b[32m153.6/154.7 kB\u001b[0m \u001b[31m4.3 MB/s\u001b[0m eta \u001b[36m0:00:01\u001b[0m\r\u001b[2K   \u001b[90m━━━━━━━━━━━━━━━━━━━━━━━━━━━━━━━━━━━━━━━━\u001b[0m \u001b[32m154.7/154.7 kB\u001b[0m \u001b[31m2.7 MB/s\u001b[0m eta \u001b[36m0:00:00\u001b[0m\n",
            "\u001b[?25hInstalling collected packages: nose\n",
            "Successfully installed nose-1.3.7\n"
          ]
        }
      ],
      "source": [
        "!pip install nose"
      ]
    },
    {
      "cell_type": "code",
      "execution_count": 2,
      "metadata": {
        "colab": {
          "base_uri": "https://localhost:8080/"
        },
        "id": "oH3iebLFccDv",
        "outputId": "45634bd5-8b98-4590-fdee-d197755735a3"
      },
      "outputs": [
        {
          "name": "stdout",
          "output_type": "stream",
          "text": [
            "Mounted at /content/drive\n"
          ]
        }
      ],
      "source": [
        "from google.colab import drive\n",
        "drive.mount('/content/drive')\n"
      ]
    },
    {
      "cell_type": "code",
      "execution_count": 3,
      "metadata": {
        "colab": {
          "base_uri": "https://localhost:8080/",
          "height": 36
        },
        "id": "jq5Y1xTciLYK",
        "outputId": "50715d71-3483-42ea-c3b3-f1194da3a4ec"
      },
      "outputs": [
        {
          "data": {
            "application/vnd.google.colaboratory.intrinsic+json": {
              "type": "string"
            },
            "text/plain": [
              "'/content/drive/MyDrive/data'"
            ]
          },
          "execution_count": 3,
          "metadata": {},
          "output_type": "execute_result"
        }
      ],
      "source": [
        "'/content/drive/MyDrive/data'\n",
        "\n"
      ]
    },
    {
      "cell_type": "code",
      "execution_count": 4,
      "metadata": {
        "id": "9ghEZFUNh__o"
      },
      "outputs": [],
      "source": [
        "import numpy as np"
      ]
    },
    {
      "cell_type": "code",
      "execution_count": 5,
      "metadata": {
        "colab": {
          "base_uri": "https://localhost:8080/"
        },
        "id": "pg21btmUWZe2",
        "outputId": "dd245ded-ce0f-4e91-dbec-7b7c817d328d"
      },
      "outputs": [
        {
          "name": "stdout",
          "output_type": "stream",
          "text": [
            "Populating the interactive namespace from numpy and matplotlib\n"
          ]
        }
      ],
      "source": [
        "%pylab inline\n",
        "import scipy.stats\n",
        "from collections import defaultdict"
      ]
    },
    {
      "cell_type": "code",
      "execution_count": 6,
      "metadata": {
        "collapsed": true,
        "id": "CqGMDcuUWZe6"
      },
      "outputs": [],
      "source": [
        "import re\n",
        "import bs4\n",
        "\n",
        "def parse_string(string):\n",
        "    \"\"\"\"\n",
        "        Parse the input string and tokenize it using regular expressisons:\n",
        "        First clean the string such that it does not have any punctuation or number, it must only have a-z and A-Z.\n",
        "        Please note that while doing this, the spaces much not get disturbed, but in case of multiple spaces convert\n",
        "        them to one space.\n",
        "        Then convert the string to lower case and return its words as a list of strings.\n",
        "\n",
        "        Example:\n",
        "        --------\n",
        "        Input :  computer scien_tist-s are,,,  the  rock__stars of tomorrow_ <cool>  ????\n",
        "        Output:  ['computer', 'scientists', 'are', 'the', 'rockstars', 'of', 'tomorrow']\n",
        "\n",
        "        Parameters:\n",
        "        ----------\n",
        "        string: string to be parsed...\n",
        "        re: regular expression to be used for the tokenization.\n",
        "\n",
        "        Returns:\n",
        "        ---------\n",
        "        list of tokens extracted from the string...\n",
        "    \"\"\"\n",
        "\n",
        "    # YOUR CODE HERE\n",
        "\n",
        "    cleaned = re.sub(r'[^a-zA-Z\\s]', '', string)\n",
        "    cleaned = re.sub(r'\\s+', ' ', cleaned)\n",
        "\n",
        "    cleaned = cleaned.lower()\n",
        "\n",
        "    tokens = cleaned.split()\n",
        "\n",
        "    # raise NotImplementedError()\n",
        "\n",
        "    return tokens\n",
        "\n"
      ]
    },
    {
      "cell_type": "code",
      "execution_count": 7,
      "metadata": {
        "id": "NKc_iuLtWZe7"
      },
      "outputs": [],
      "source": [
        "def parse_file(filename): # Parse a given file\n",
        "    \"\"\"\"\n",
        "        Parameters:\n",
        "        ----------\n",
        "        filename: name of text file to be read\n",
        "\n",
        "\n",
        "        Returns:\n",
        "        ---------\n",
        "        read file as raw string (with \\n, \\t, \\r, etc included)\n",
        "    \"\"\"\n",
        "    # YOUR CODE HERE\n",
        "\n",
        "    string = \"\"\n",
        "\n",
        "    with open(filename, 'r') as file:\n",
        "      string = file.read()\n",
        "\n",
        "    return string"
      ]
    },
    {
      "cell_type": "code",
      "execution_count": 8,
      "metadata": {
        "collapsed": true,
        "id": "_CcywY-dWZe8"
      },
      "outputs": [],
      "source": [
        "import numpy as np\n",
        "\n",
        "def files_to_strings(X):\n",
        "\n",
        "    \"\"\"\n",
        "        Read an array (or list) of files where each file content is read in a string...\n",
        "        Input:\n",
        "        -------\n",
        "        X an array (or list) of file names\n",
        "\n",
        "        Returns:\n",
        "        --------\n",
        "        X as a numpy array with each row containing a read string from the file...\n",
        "    \"\"\"\n",
        "\n",
        "    # YOUR CODE HERE\n",
        "    string_list = []\n",
        "\n",
        "    for filename in X:\n",
        "      with open(filename, 'r') as file:\n",
        "        string = file.read()\n",
        "        string_list.append(string)\n",
        "\n",
        "    return np.array(string_list)"
      ]
    },
    {
      "cell_type": "code",
      "execution_count": 9,
      "metadata": {
        "id": "5E-jEP1-WZe8"
      },
      "outputs": [],
      "source": [
        "from nose.tools import assert_equal, assert_list_equal\n",
        "\n",
        "assert_list_equal(parse_string(\"computer scien_tist-s are,,,  the  rock__stars of tomorrow_ <cool>  ????\"),\n",
        "        [u'computer', u'scientists', u'are', u'the', u'rockstars', u'of', u'tomorrow', u'cool'], \"Incorrect cleanning\")\n",
        "\n",
        "\n",
        "strings = files_to_strings(np.array([\"/content/drive/MyDrive/data/imdb1/neg/cv000_29416.txt\", \"/content/drive/MyDrive/data/imdb1/pos/cv000_29590.txt\"]))\n",
        "with open(\"/content/drive/MyDrive/data/imdb1/neg/cv000_29416.txt\") as f:\n",
        "    text = f.read()\n",
        "\n",
        "assert_equal(strings[0], text, \"At first index should be text of first file\")\n",
        "assert_equal(strings.shape, (2,), \"Shape must be (2,) for two files in list\")"
      ]
    },
    {
      "cell_type": "code",
      "execution_count": 10,
      "metadata": {
        "id": "Eq4TggR1WZe9"
      },
      "outputs": [],
      "source": [
        "from collections import Counter\n",
        "import numpy as np\n",
        "\n",
        "class NaiveBayes:\n",
        "    ''' Implements the Naive Bayes For Text Classification... '''\n",
        "    def __init__(self, classes):\n",
        "        self.classes = classes\n",
        "        self.prior_probs = {}\n",
        "        self.words_count_class_wise = {}\n",
        "        self.words_prob_class_wise = {}\n",
        "\n",
        "    # Receives combined string tokens for each class, uses Counter to assign word count.\n",
        "    def addExample(self, tokens, class_label):\n",
        "        token_count_dict = Counter(tokens)\n",
        "        self.words_count_class_wise[class_label] = token_count_dict\n",
        "\n",
        "    def train(self, X, Y):\n",
        "        combined_string_class_wise = {class_label: \"\" for class_label in self.classes}\n",
        "        self.prior_probs = {class_label: 0 for class_label in self.classes}\n",
        "        self.words_count_class_wise = {class_label: {} for class_label in self.classes}\n",
        "        self.words_prob_class_wise = {class_label: {} for class_label in self.classes}\n",
        "\n",
        "        # Count the examples and combine texts by class\n",
        "        nexamples = len(X)\n",
        "        for i in range(nexamples):\n",
        "            text = X[i][0]\n",
        "            label = Y[i]\n",
        "            combined_string_class_wise[label] += \" \" + text\n",
        "            self.prior_probs[label] += 1\n",
        "\n",
        "        # Convert prior counts to probabilities\n",
        "        for class_label in self.classes:\n",
        "            self.prior_probs[class_label] = np.log(self.prior_probs[class_label] / nexamples)  # Using log for stability\n",
        "\n",
        "        # Build word count dictionary per class and overall vocabulary\n",
        "        total_count_each_word = {}\n",
        "        for class_label in self.classes:\n",
        "            tokens = parse_string(combined_string_class_wise[class_label])\n",
        "            self.addExample(tokens, class_label)\n",
        "\n",
        "            for word, count in self.words_count_class_wise[class_label].items():\n",
        "                if word in total_count_each_word:\n",
        "                    total_count_each_word[word] += count\n",
        "                else:\n",
        "                    total_count_each_word[word] = count\n",
        "\n",
        "        vocab_size = len(total_count_each_word)  # Total vocabulary size for smoothing\n",
        "\n",
        "        # Apply Laplace smoothing and calculate word probabilities\n",
        "        for class_label in self.classes:\n",
        "            total_words = sum(list(self.words_count_class_wise[class_label].values()))\n",
        "            for word, _ in total_count_each_word.items():\n",
        "                word_count = self.words_count_class_wise[class_label].get(word, 0)\n",
        "                # Apply Laplace smoothing and use log to prevent underflow\n",
        "                self.words_prob_class_wise[class_label][word] = np.log((word_count + 1) / (total_words + vocab_size))\n",
        "\n",
        "    def test(self, X):\n",
        "        ''' Test the trained classifiers on the given set of examples '''\n",
        "        nexamples = X.shape[0]\n",
        "        pclass = []\n",
        "\n",
        "        for i in range(nexamples):\n",
        "            text = X[i][0]\n",
        "            text_tokens = parse_string(text)\n",
        "\n",
        "            log_likelihoods = {class_label: self.prior_probs[class_label] for class_label in self.classes}\n",
        "            for token in text_tokens:\n",
        "                for class_label in self.classes:\n",
        "                    if token in self.words_prob_class_wise[class_label]:\n",
        "                        log_prob = self.words_prob_class_wise[class_label][token]\n",
        "                    else:\n",
        "                        total_words = sum(list(self.words_count_class_wise[class_label].values()))\n",
        "                        vocab_size = len(self.words_prob_class_wise[class_label])\n",
        "                        log_prob = np.log(1 / (total_words + vocab_size))  # Log Laplace smoothing for unseen words\n",
        "\n",
        "                    log_likelihoods[class_label] += log_prob\n",
        "\n",
        "            # Find the class with the highest log-likelihood\n",
        "            best_class = max(log_likelihoods, key=log_likelihoods.get)\n",
        "            pclass.append(best_class)\n",
        "\n",
        "        return np.array(pclass)\n",
        "\n",
        "    def predict(self, x):\n",
        "        ''' Predict the label of given input example... '''\n",
        "        x_array = np.array([x], dtype=object)  # Wrap in an array of shape (1, )\n",
        "        predicted_class = self.test(x_array)[0]  # Call test and get the first result\n",
        "\n",
        "        return predicted_class"
      ]
    },
    {
      "cell_type": "code",
      "execution_count": 12,
      "metadata": {
        "id": "kraf7b6CWZe9"
      },
      "outputs": [],
      "source": [
        "import pandas as pd\n",
        "import numpy as np\n",
        "import sys\n",
        "sys.path.append('/content/drive/My Drive')\n",
        "import tools as t\n"
      ]
    },
    {
      "cell_type": "code",
      "execution_count": 13,
      "metadata": {
        "id": "_M1_eN3oWZe-"
      },
      "outputs": [],
      "source": [
        "tdir= \"/content/drive/MyDrive/data/imdb1/\" # training dir...\n",
        "#load data, get list of files for each class...\n",
        "posfiles=t.get_files(tdir+'/pos','*',withpath=True)\n",
        "negfiles=t.get_files(tdir+'/neg','*',withpath=True)"
      ]
    },
    {
      "cell_type": "code",
      "execution_count": 14,
      "metadata": {
        "colab": {
          "base_uri": "https://localhost:8080/"
        },
        "id": "cE1-RLN6WZe-",
        "outputId": "903b7e7c-56a8-4090-a9c3-66160faac3c0"
      },
      "outputs": [
        {
          "name": "stdout",
          "output_type": "stream",
          "text": [
            "Training data Dimensions = (2000,)  Training labels dimensions= (2000,)\n"
          ]
        }
      ],
      "source": [
        "#generate training and testing data...\n",
        "plabels=['pos']*len(posfiles)\n",
        "nlabels=['neg']*len(posfiles)\n",
        "labels=np.concatenate((plabels,nlabels)) # concatenate the +ve and -ve labels\n",
        "tX=np.concatenate((posfiles,negfiles))\n",
        "print (\"Training data Dimensions =\", tX.shape,\" Training labels dimensions=\", labels.shape)"
      ]
    },
    {
      "cell_type": "code",
      "execution_count": 15,
      "metadata": {
        "id": "0pELq-QnWZe_"
      },
      "outputs": [],
      "source": [
        "X=files_to_strings(tX) # read files and convert each file into set of strings and return an numpy array\n",
        "X = X.reshape((X.shape[0], 1))\n",
        "#Split the data into two halves training and test set...\n",
        "traindata,trainlabels,testdata,testlabels=t.split_data(X,labels)\n",
        "#Find the classes to train\n",
        "classes=np.unique(labels)"
      ]
    },
    {
      "cell_type": "code",
      "execution_count": null,
      "metadata": {
        "id": "RB-B9h2TjXyi"
      },
      "outputs": [],
      "source": [
        "from collections import Counter\n",
        "import numpy as np\n",
        "\n",
        "class NaiveBayes:\n",
        "    ''' Implements the Naive Bayes For Text Classification... '''\n",
        "    def __init__(self, classes):\n",
        "        self.classes = classes\n",
        "        self.prior_probs = {}\n",
        "        self.words_count_class_wise = {}\n",
        "        self.words_prob_class_wise = {}\n",
        "\n",
        "    # Receives combined string tokens for each class, uses Counter to assign word count.\n",
        "    def addExample(self, tokens, class_label):\n",
        "        token_count_dict = Counter(tokens)\n",
        "        self.words_count_class_wise[class_label] = token_count_dict\n",
        "\n",
        "    def train(self, X, Y):\n",
        "        combined_string_class_wise = {class_label: \"\" for class_label in self.classes}\n",
        "        self.prior_probs = {class_label: 0 for class_label in self.classes}\n",
        "        self.words_count_class_wise = {class_label: {} for class_label in self.classes}\n",
        "        self.words_prob_class_wise = {class_label: {} for class_label in self.classes}\n",
        "\n",
        "        # Count the examples and combine texts by class\n",
        "        nexamples = len(X)\n",
        "        for i in range(nexamples):\n",
        "            text = X[i][0]\n",
        "            label = Y[i]\n",
        "            combined_string_class_wise[label] += \" \" + text\n",
        "            self.prior_probs[label] += 1\n",
        "\n",
        "        # Convert prior counts to probabilities\n",
        "        for class_label in self.classes:\n",
        "            self.prior_probs[class_label] = np.log(self.prior_probs[class_label] / nexamples)  # Using log for stability\n",
        "\n",
        "        # Build word count dictionary per class and overall vocabulary\n",
        "        total_count_each_word = {}\n",
        "        for class_label in self.classes:\n",
        "            tokens = parse_string(combined_string_class_wise[class_label])\n",
        "            self.addExample(tokens, class_label)\n",
        "\n",
        "            for word, count in self.words_count_class_wise[class_label].items():\n",
        "                if word in total_count_each_word:\n",
        "                    total_count_each_word[word] += count\n",
        "                else:\n",
        "                    total_count_each_word[word] = count\n",
        "\n",
        "        vocab_size = len(total_count_each_word)  # Total vocabulary size for smoothing\n",
        "\n",
        "        # Apply Laplace smoothing and calculate word probabilities\n",
        "        for class_label in self.classes:\n",
        "            total_words = sum(list(self.words_count_class_wise[class_label].values()))\n",
        "            for word, _ in total_count_each_word.items():\n",
        "                word_count = self.words_count_class_wise[class_label].get(word, 0)\n",
        "                # Apply Laplace smoothing and use log to prevent underflow\n",
        "                self.words_prob_class_wise[class_label][word] = np.log((word_count + 1) / (total_words + vocab_size))\n",
        "\n",
        "    def test(self, X):\n",
        "        ''' Test the trained classifiers on the given set of examples '''\n",
        "        nexamples = X.shape[0]\n",
        "        pclass = []\n",
        "\n",
        "        for i in range(nexamples):\n",
        "            text = X[i][0]\n",
        "            text_tokens = parse_string(text)\n",
        "\n",
        "            log_likelihoods = {class_label: self.prior_probs[class_label] for class_label in self.classes}\n",
        "            for token in text_tokens:\n",
        "                for class_label in self.classes:\n",
        "                    if token in self.words_prob_class_wise[class_label]:\n",
        "                        log_prob = self.words_prob_class_wise[class_label][token]\n",
        "                    else:\n",
        "                        total_words = sum(list(self.words_count_class_wise[class_label].values()))\n",
        "                        vocab_size = len(self.words_prob_class_wise[class_label])\n",
        "                        log_prob = np.log(1 / (total_words + vocab_size))  # Log Laplace smoothing for unseen words\n",
        "\n",
        "                    log_likelihoods[class_label] += log_prob\n",
        "\n",
        "            # Find the class with the highest log-likelihood\n",
        "            best_class = max(log_likelihoods, key=log_likelihoods.get)\n",
        "            pclass.append(best_class)\n",
        "\n",
        "        return np.array(pclass)\n",
        "\n",
        "    def predict(self, x):\n",
        "        ''' Predict the label of given input example... '''\n",
        "        x_array = np.array([x], dtype=object)  # Wrap in an array of shape (1, )\n",
        "        predicted_class = self.test(x_array)[0]  # Call test and get the first result\n",
        "\n",
        "        return predicted_class"
      ]
    },
    {
      "cell_type": "code",
      "execution_count": 16,
      "metadata": {
        "colab": {
          "base_uri": "https://localhost:8080/"
        },
        "id": "gn7Dh0EpWZfA",
        "outputId": "5a4c1285-5a15-40a6-bf5a-98b3036036d3"
      },
      "outputs": [
        {
          "name": "stdout",
          "output_type": "stream",
          "text": [
            "[Info] training a classifier for following classes neg, pos\n",
            "[Info] Accuracy = 0.7916666666666666\n"
          ]
        }
      ],
      "source": [
        "#Now build a Naive Bayes classifier and test it...\n",
        "print ('[Info] training a classifier for following classes {}, {}'.format(classes[0],classes[1]))\n",
        "nb=NaiveBayes(classes)\n",
        "nb.train(traindata,trainlabels)\n",
        "pclasses=nb.test(testdata)\n",
        "acc=np.sum(pclasses==testlabels)/float(testlabels.shape[0])\n",
        "print (\"[Info] Accuracy = {}\".format(acc))"
      ]
    },
    {
      "cell_type": "code",
      "execution_count": 17,
      "metadata": {
        "colab": {
          "base_uri": "https://localhost:8080/"
        },
        "id": "E8rH3EUweZ5O",
        "outputId": "bb71a2d6-7780-49e8-e017-8c8e432d2637"
      },
      "outputs": [
        {
          "data": {
            "text/plain": [
              "array(['neg', 'pos', 'neg', 'neg', 'neg', 'neg', 'neg', 'neg', 'neg',\n",
              "       'neg', 'neg', 'neg', 'neg', 'neg', 'neg', 'neg', 'neg', 'pos',\n",
              "       'neg', 'neg', 'pos', 'neg', 'neg', 'neg', 'neg', 'neg', 'neg',\n",
              "       'neg', 'neg', 'pos', 'neg', 'neg', 'neg', 'neg', 'neg', 'neg',\n",
              "       'neg', 'neg', 'pos', 'neg', 'neg', 'neg', 'pos', 'neg', 'neg',\n",
              "       'pos', 'neg', 'neg', 'neg', 'neg', 'neg', 'neg', 'neg', 'neg',\n",
              "       'neg', 'neg', 'neg', 'neg', 'pos', 'neg', 'neg', 'neg', 'neg',\n",
              "       'neg', 'neg', 'neg', 'neg', 'pos', 'neg', 'neg', 'neg', 'pos',\n",
              "       'neg', 'pos', 'neg', 'neg', 'pos', 'neg', 'neg', 'neg', 'neg',\n",
              "       'neg', 'neg', 'neg', 'neg', 'neg', 'pos', 'neg', 'pos', 'neg',\n",
              "       'neg', 'neg', 'neg', 'neg', 'neg', 'neg', 'neg', 'neg', 'neg',\n",
              "       'neg', 'neg', 'neg', 'neg', 'neg', 'neg', 'neg', 'pos', 'neg',\n",
              "       'neg', 'neg', 'neg', 'neg', 'neg', 'neg', 'neg', 'neg', 'neg',\n",
              "       'neg', 'neg', 'neg', 'neg', 'pos', 'neg', 'neg', 'pos', 'neg',\n",
              "       'neg', 'neg', 'neg', 'neg', 'pos', 'neg', 'neg', 'neg', 'neg',\n",
              "       'pos', 'neg', 'neg', 'neg', 'neg', 'pos', 'neg', 'neg', 'neg',\n",
              "       'neg', 'neg', 'neg', 'neg', 'neg', 'neg', 'neg', 'neg', 'neg',\n",
              "       'neg', 'neg', 'neg', 'pos', 'neg', 'pos', 'neg', 'neg', 'neg',\n",
              "       'neg', 'neg', 'neg', 'neg', 'neg', 'neg', 'pos', 'neg', 'neg',\n",
              "       'neg', 'pos', 'neg', 'neg', 'neg', 'neg', 'neg', 'neg', 'neg',\n",
              "       'neg', 'neg', 'pos', 'neg', 'pos', 'neg', 'neg', 'pos', 'pos',\n",
              "       'pos', 'pos', 'neg', 'neg', 'pos', 'neg', 'neg', 'neg', 'neg',\n",
              "       'pos', 'neg', 'neg', 'neg', 'pos', 'neg', 'neg', 'neg', 'neg',\n",
              "       'neg', 'neg', 'neg', 'pos', 'pos', 'pos', 'pos', 'pos', 'pos',\n",
              "       'neg', 'neg', 'neg', 'neg', 'neg', 'pos', 'pos', 'pos', 'neg',\n",
              "       'neg', 'neg', 'neg', 'neg', 'neg', 'neg', 'neg', 'pos', 'neg',\n",
              "       'neg', 'pos', 'pos', 'neg', 'neg', 'neg', 'neg', 'pos', 'neg',\n",
              "       'neg', 'neg', 'pos', 'neg', 'pos', 'neg', 'neg', 'neg', 'neg',\n",
              "       'neg', 'neg', 'neg', 'neg', 'pos', 'pos', 'neg', 'neg', 'neg',\n",
              "       'neg', 'pos', 'pos', 'neg', 'neg', 'pos', 'pos', 'neg', 'neg',\n",
              "       'neg', 'neg', 'neg', 'neg', 'neg', 'neg', 'neg', 'neg', 'neg',\n",
              "       'neg', 'neg', 'neg', 'neg', 'neg', 'pos', 'neg', 'pos', 'neg',\n",
              "       'neg', 'neg', 'neg', 'neg', 'neg', 'neg', 'neg', 'neg', 'neg',\n",
              "       'neg', 'neg', 'pos', 'pos', 'pos', 'neg', 'neg', 'pos', 'pos',\n",
              "       'pos', 'neg', 'pos', 'pos', 'pos', 'pos', 'pos', 'pos', 'pos',\n",
              "       'neg', 'pos', 'pos', 'neg', 'neg', 'pos', 'pos', 'pos', 'pos',\n",
              "       'pos', 'pos', 'pos', 'pos', 'pos', 'pos', 'neg', 'pos', 'pos',\n",
              "       'pos', 'pos', 'pos', 'neg', 'neg', 'pos', 'pos', 'neg', 'pos',\n",
              "       'pos', 'pos', 'pos', 'neg', 'pos', 'pos', 'neg', 'pos', 'pos',\n",
              "       'pos', 'pos', 'pos', 'pos', 'pos', 'neg', 'pos', 'pos', 'pos',\n",
              "       'pos', 'pos', 'pos', 'pos', 'pos', 'pos', 'pos', 'pos', 'neg',\n",
              "       'pos', 'pos', 'pos', 'pos', 'pos', 'neg', 'pos', 'pos', 'pos',\n",
              "       'neg', 'pos', 'neg', 'pos', 'pos', 'neg', 'pos', 'pos', 'pos',\n",
              "       'pos', 'neg', 'pos', 'pos', 'pos', 'pos', 'pos', 'pos', 'pos',\n",
              "       'pos', 'neg', 'pos', 'neg', 'neg', 'neg', 'neg', 'neg', 'pos',\n",
              "       'pos', 'pos', 'neg', 'neg', 'pos', 'pos', 'pos', 'neg', 'neg',\n",
              "       'pos', 'neg', 'pos', 'pos', 'pos', 'pos', 'neg', 'neg', 'neg',\n",
              "       'neg', 'pos', 'pos', 'pos', 'neg', 'pos', 'pos', 'pos', 'pos',\n",
              "       'pos', 'pos', 'pos', 'pos', 'pos', 'pos', 'pos', 'pos', 'pos',\n",
              "       'pos', 'pos', 'pos', 'pos', 'pos', 'pos', 'neg', 'neg', 'pos',\n",
              "       'neg', 'neg', 'pos', 'pos', 'neg', 'pos', 'pos', 'pos', 'pos',\n",
              "       'pos', 'neg', 'neg', 'pos', 'pos', 'pos', 'neg', 'pos', 'pos',\n",
              "       'neg', 'pos', 'pos', 'neg', 'pos', 'pos', 'pos', 'neg', 'pos',\n",
              "       'pos', 'pos', 'pos', 'pos', 'pos', 'neg', 'neg', 'pos', 'neg',\n",
              "       'neg', 'pos', 'pos', 'neg', 'pos', 'pos', 'pos', 'pos', 'pos',\n",
              "       'pos', 'pos', 'pos', 'pos', 'pos', 'neg', 'pos', 'pos', 'pos',\n",
              "       'pos', 'pos', 'pos', 'pos', 'pos', 'pos', 'pos', 'pos', 'pos',\n",
              "       'pos', 'pos', 'pos', 'pos', 'pos', 'neg', 'neg', 'pos', 'pos',\n",
              "       'neg', 'pos', 'pos', 'pos', 'neg', 'pos', 'pos', 'pos', 'pos',\n",
              "       'pos', 'pos', 'neg', 'pos', 'pos', 'pos', 'pos', 'pos', 'pos',\n",
              "       'pos', 'pos', 'pos', 'pos', 'pos', 'neg', 'pos', 'neg', 'pos',\n",
              "       'pos', 'pos', 'pos', 'pos', 'pos', 'pos', 'pos', 'pos', 'pos',\n",
              "       'pos', 'pos', 'pos', 'pos', 'pos', 'neg', 'pos', 'pos', 'pos',\n",
              "       'pos', 'neg', 'pos', 'pos', 'neg', 'pos', 'pos', 'neg', 'pos',\n",
              "       'pos', 'pos', 'pos', 'pos', 'pos', 'pos', 'neg', 'pos', 'pos',\n",
              "       'pos', 'pos', 'pos', 'neg', 'neg', 'neg', 'pos', 'pos', 'pos',\n",
              "       'pos', 'pos', 'pos', 'pos', 'pos', 'neg'], dtype='<U3')"
            ]
          },
          "execution_count": 17,
          "metadata": {},
          "output_type": "execute_result"
        }
      ],
      "source": [
        "pclasses"
      ]
    },
    {
      "cell_type": "code",
      "execution_count": 18,
      "metadata": {
        "id": "_s2u9rv3WZfA"
      },
      "outputs": [],
      "source": [
        "from nose.tools import assert_in, assert_equal\n",
        "\n",
        "nb=NaiveBayes(classes)\n",
        "nb.train(traindata,trainlabels)\n",
        "assert_equal (nb.test(testdata).shape[0], testdata.shape[0])\n",
        "assert_in( type(nb.predict([\"ok\"])) , [str, np.string_, np.str_] , \"Predict should return a label \\\n",
        "                                                                                            not list or array\")"
      ]
    },
    {
      "cell_type": "code",
      "execution_count": 19,
      "metadata": {
        "id": "7959Bi2vWZfB"
      },
      "outputs": [],
      "source": [
        "from nose.tools import assert_greater\n",
        "\n",
        "nb=NaiveBayes(classes)\n",
        "nb.train(traindata,trainlabels)\n",
        "pclasses=nb.test(testdata)\n",
        "acc=np.sum(pclasses==testlabels)/float(testlabels.shape[0])\n",
        "assert_greater(acc, 0.77, \"Acc must be greater then 77% you are doing something wrong\")"
      ]
    },
    {
      "cell_type": "markdown",
      "metadata": {
        "id": "ffC9KmVKWZfB"
      },
      "source": [
        "### Test Cells End"
      ]
    },
    {
      "cell_type": "markdown",
      "metadata": {
        "id": "jRYj0LevWZfC"
      },
      "source": [
        "# Cross Validation\n",
        "\n",
        "Now lets throw our methods to winds of different folds and measure their accuracy..."
      ]
    },
    {
      "cell_type": "code",
      "execution_count": 21,
      "metadata": {
        "colab": {
          "base_uri": "https://localhost:8080/"
        },
        "id": "lrKoCFtmWZfC",
        "outputId": "f5f818a9-8a11-45ab-ad13-4ce046466328"
      },
      "outputs": [
        {
          "name": "stdout",
          "output_type": "stream",
          "text": [
            "Generating CV data for 2 classes\n",
            "(1800, 1) (200, 1)\n",
            "(1800, 1) (200, 1)\n",
            "(1800, 1) (200, 1)\n",
            "(1800, 1) (200, 1)\n",
            "(1800, 1) (200, 1)\n",
            "(1800, 1) (200, 1)\n",
            "(1800, 1) (200, 1)\n",
            "(1800, 1) (200, 1)\n",
            "(1800, 1) (200, 1)\n",
            "(1800, 1) (200, 1)\n"
          ]
        }
      ],
      "source": [
        "#Now lets generate n-fold training and testing data...\n",
        "nfolds=10\n",
        "folds=t.generate_folds(X,labels,nfolds) # generate folds for\n",
        "for k in arange(len(folds)):\n",
        "    print (folds[k][0].shape, folds[k][2].shape)"
      ]
    },
    {
      "cell_type": "code",
      "execution_count": 22,
      "metadata": {
        "colab": {
          "base_uri": "https://localhost:8080/"
        },
        "id": "yPwUFHFwWZfD",
        "outputId": "19d3bfd7-946d-43a1-823b-05a0748e4ca3"
      },
      "outputs": [
        {
          "name": "stdout",
          "output_type": "stream",
          "text": [
            "[Info] Fold 1 Accuracy = 0.85\n",
            "[Info] Fold 2 Accuracy = 0.82\n",
            "[Info] Fold 3 Accuracy = 0.85\n",
            "[Info] Fold 4 Accuracy = 0.78\n",
            "[Info] Fold 5 Accuracy = 0.785\n",
            "[Info] Fold 6 Accuracy = 0.795\n",
            "[Info] Fold 7 Accuracy = 0.785\n",
            "[Info] Fold 8 Accuracy = 0.84\n",
            "[Info] Fold 9 Accuracy = 0.805\n",
            "[Info] Fold 10 Accuracy = 0.84\n",
            "[0.85, 0.82, 0.85, 0.78, 0.785, 0.795, 0.785, 0.84, 0.805, 0.84]\n",
            "[Info] Mean Accuracy = 0.8150000000000001\n"
          ]
        }
      ],
      "source": [
        "totacc=[]\n",
        "#train a classifier for each fold...\n",
        "classes=np.unique(labels)\n",
        "\n",
        "for k in range(nfolds):\n",
        "    nb=NaiveBayes(classes)\n",
        "\n",
        "    traindata=folds[k][0]\n",
        "    trainlabels=folds[k][1]\n",
        "\n",
        "    #Lets first train the classifier\n",
        "    nb.train(traindata,trainlabels)\n",
        "\n",
        "    testdata=folds[k][2]\n",
        "    testlabels=folds[k][3]\n",
        "\n",
        "    #Lets test the classifier\n",
        "    pclasses= nb.test(testdata)\n",
        "\n",
        "    #print pclasses\n",
        "    acc=np.sum(pclasses==testlabels)/float(testlabels.shape[0])\n",
        "    print (\"[Info] Fold {} Accuracy = {}\".format(k+1, acc))\n",
        "\n",
        "    totacc.append(acc)\n",
        "\n",
        "print (totacc)\n",
        "\n",
        "mean_acc = np.mean(totacc)\n",
        "print ('[Info] Mean Accuracy =', mean_acc)"
      ]
    },
    {
      "cell_type": "markdown",
      "metadata": {
        "collapsed": true,
        "id": "yAUHPSstWZfE"
      },
      "source": [
        "# Excellent, now its time to go into real waters of Kaggle.\n",
        "\n",
        "\n",
        "You will be needed to create an account on the Kaggle and download the data for the competition [\"Bag of words meets bags of popcorn\"](https://www.kaggle.com/c/word2vec-nlp-tutorial/data).  Note that you will be only downloading the \"labeledTrainData.tsv\" and \"labeledTestData.tsv\".\n",
        "\n",
        "\n",
        "\"labeledTrainData.tsv\" will be used for training your model and thus have prespecified labels for each example review. \"labeledTestData.tsv\" will be used for testing your model and thus don't have prespecified labels for each example. You will predicting the label for each review and then uploading your result to Kaggle server which will be evaluating your model and will give score to your entry. You will report this score during your assignment submission.\n",
        "\n",
        "**[Caution]** Please note that Kaggle limits maximum number of evaluations per 24 hours to 5 to reduce the overfitting on the test set, so be careful and throughly test your model before submitting your entry to Kaggle server.\n",
        "\n",
        "Read the instructions on the Competition Page. Note you are not allowed to use any of the library except what we have learned during class."
      ]
    },
    {
      "cell_type": "code",
      "execution_count": 23,
      "metadata": {
        "id": "HGSTI7kMWZfE"
      },
      "outputs": [],
      "source": [
        "# read the data-set\n",
        "train=pd.read_csv('/content/labeledTrainData.tsv',sep='\\t')"
      ]
    },
    {
      "cell_type": "code",
      "execution_count": 24,
      "metadata": {
        "colab": {
          "base_uri": "https://localhost:8080/",
          "height": 300
        },
        "id": "_pM2rZf4WZfE",
        "outputId": "f9fa0cec-d281-4ab9-ba98-0dfbce30a465"
      },
      "outputs": [
        {
          "data": {
            "application/vnd.google.colaboratory.intrinsic+json": {
              "summary": "{\n  \"name\": \"train\",\n  \"rows\": 8,\n  \"fields\": [\n    {\n      \"column\": \"sentiment\",\n      \"properties\": {\n        \"dtype\": \"number\",\n        \"std\": 8838.657995712836,\n        \"min\": 0.0,\n        \"max\": 25000.0,\n        \"num_unique_values\": 5,\n        \"samples\": [\n          0.5,\n          1.0,\n          0.50001000030001\n        ],\n        \"semantic_type\": \"\",\n        \"description\": \"\"\n      }\n    }\n  ]\n}",
              "type": "dataframe"
            },
            "text/html": [
              "\n",
              "  <div id=\"df-eeb5dfbf-4843-4e99-a64a-36ab69c3873d\" class=\"colab-df-container\">\n",
              "    <div>\n",
              "<style scoped>\n",
              "    .dataframe tbody tr th:only-of-type {\n",
              "        vertical-align: middle;\n",
              "    }\n",
              "\n",
              "    .dataframe tbody tr th {\n",
              "        vertical-align: top;\n",
              "    }\n",
              "\n",
              "    .dataframe thead th {\n",
              "        text-align: right;\n",
              "    }\n",
              "</style>\n",
              "<table border=\"1\" class=\"dataframe\">\n",
              "  <thead>\n",
              "    <tr style=\"text-align: right;\">\n",
              "      <th></th>\n",
              "      <th>sentiment</th>\n",
              "    </tr>\n",
              "  </thead>\n",
              "  <tbody>\n",
              "    <tr>\n",
              "      <th>count</th>\n",
              "      <td>25000.00000</td>\n",
              "    </tr>\n",
              "    <tr>\n",
              "      <th>mean</th>\n",
              "      <td>0.50000</td>\n",
              "    </tr>\n",
              "    <tr>\n",
              "      <th>std</th>\n",
              "      <td>0.50001</td>\n",
              "    </tr>\n",
              "    <tr>\n",
              "      <th>min</th>\n",
              "      <td>0.00000</td>\n",
              "    </tr>\n",
              "    <tr>\n",
              "      <th>25%</th>\n",
              "      <td>0.00000</td>\n",
              "    </tr>\n",
              "    <tr>\n",
              "      <th>50%</th>\n",
              "      <td>0.50000</td>\n",
              "    </tr>\n",
              "    <tr>\n",
              "      <th>75%</th>\n",
              "      <td>1.00000</td>\n",
              "    </tr>\n",
              "    <tr>\n",
              "      <th>max</th>\n",
              "      <td>1.00000</td>\n",
              "    </tr>\n",
              "  </tbody>\n",
              "</table>\n",
              "</div>\n",
              "    <div class=\"colab-df-buttons\">\n",
              "\n",
              "  <div class=\"colab-df-container\">\n",
              "    <button class=\"colab-df-convert\" onclick=\"convertToInteractive('df-eeb5dfbf-4843-4e99-a64a-36ab69c3873d')\"\n",
              "            title=\"Convert this dataframe to an interactive table.\"\n",
              "            style=\"display:none;\">\n",
              "\n",
              "  <svg xmlns=\"http://www.w3.org/2000/svg\" height=\"24px\" viewBox=\"0 -960 960 960\">\n",
              "    <path d=\"M120-120v-720h720v720H120Zm60-500h600v-160H180v160Zm220 220h160v-160H400v160Zm0 220h160v-160H400v160ZM180-400h160v-160H180v160Zm440 0h160v-160H620v160ZM180-180h160v-160H180v160Zm440 0h160v-160H620v160Z\"/>\n",
              "  </svg>\n",
              "    </button>\n",
              "\n",
              "  <style>\n",
              "    .colab-df-container {\n",
              "      display:flex;\n",
              "      gap: 12px;\n",
              "    }\n",
              "\n",
              "    .colab-df-convert {\n",
              "      background-color: #E8F0FE;\n",
              "      border: none;\n",
              "      border-radius: 50%;\n",
              "      cursor: pointer;\n",
              "      display: none;\n",
              "      fill: #1967D2;\n",
              "      height: 32px;\n",
              "      padding: 0 0 0 0;\n",
              "      width: 32px;\n",
              "    }\n",
              "\n",
              "    .colab-df-convert:hover {\n",
              "      background-color: #E2EBFA;\n",
              "      box-shadow: 0px 1px 2px rgba(60, 64, 67, 0.3), 0px 1px 3px 1px rgba(60, 64, 67, 0.15);\n",
              "      fill: #174EA6;\n",
              "    }\n",
              "\n",
              "    .colab-df-buttons div {\n",
              "      margin-bottom: 4px;\n",
              "    }\n",
              "\n",
              "    [theme=dark] .colab-df-convert {\n",
              "      background-color: #3B4455;\n",
              "      fill: #D2E3FC;\n",
              "    }\n",
              "\n",
              "    [theme=dark] .colab-df-convert:hover {\n",
              "      background-color: #434B5C;\n",
              "      box-shadow: 0px 1px 3px 1px rgba(0, 0, 0, 0.15);\n",
              "      filter: drop-shadow(0px 1px 2px rgba(0, 0, 0, 0.3));\n",
              "      fill: #FFFFFF;\n",
              "    }\n",
              "  </style>\n",
              "\n",
              "    <script>\n",
              "      const buttonEl =\n",
              "        document.querySelector('#df-eeb5dfbf-4843-4e99-a64a-36ab69c3873d button.colab-df-convert');\n",
              "      buttonEl.style.display =\n",
              "        google.colab.kernel.accessAllowed ? 'block' : 'none';\n",
              "\n",
              "      async function convertToInteractive(key) {\n",
              "        const element = document.querySelector('#df-eeb5dfbf-4843-4e99-a64a-36ab69c3873d');\n",
              "        const dataTable =\n",
              "          await google.colab.kernel.invokeFunction('convertToInteractive',\n",
              "                                                    [key], {});\n",
              "        if (!dataTable) return;\n",
              "\n",
              "        const docLinkHtml = 'Like what you see? Visit the ' +\n",
              "          '<a target=\"_blank\" href=https://colab.research.google.com/notebooks/data_table.ipynb>data table notebook</a>'\n",
              "          + ' to learn more about interactive tables.';\n",
              "        element.innerHTML = '';\n",
              "        dataTable['output_type'] = 'display_data';\n",
              "        await google.colab.output.renderOutput(dataTable, element);\n",
              "        const docLink = document.createElement('div');\n",
              "        docLink.innerHTML = docLinkHtml;\n",
              "        element.appendChild(docLink);\n",
              "      }\n",
              "    </script>\n",
              "  </div>\n",
              "\n",
              "\n",
              "<div id=\"df-ca0bd601-0d41-4906-9c7c-5667ced204a9\">\n",
              "  <button class=\"colab-df-quickchart\" onclick=\"quickchart('df-ca0bd601-0d41-4906-9c7c-5667ced204a9')\"\n",
              "            title=\"Suggest charts\"\n",
              "            style=\"display:none;\">\n",
              "\n",
              "<svg xmlns=\"http://www.w3.org/2000/svg\" height=\"24px\"viewBox=\"0 0 24 24\"\n",
              "     width=\"24px\">\n",
              "    <g>\n",
              "        <path d=\"M19 3H5c-1.1 0-2 .9-2 2v14c0 1.1.9 2 2 2h14c1.1 0 2-.9 2-2V5c0-1.1-.9-2-2-2zM9 17H7v-7h2v7zm4 0h-2V7h2v10zm4 0h-2v-4h2v4z\"/>\n",
              "    </g>\n",
              "</svg>\n",
              "  </button>\n",
              "\n",
              "<style>\n",
              "  .colab-df-quickchart {\n",
              "      --bg-color: #E8F0FE;\n",
              "      --fill-color: #1967D2;\n",
              "      --hover-bg-color: #E2EBFA;\n",
              "      --hover-fill-color: #174EA6;\n",
              "      --disabled-fill-color: #AAA;\n",
              "      --disabled-bg-color: #DDD;\n",
              "  }\n",
              "\n",
              "  [theme=dark] .colab-df-quickchart {\n",
              "      --bg-color: #3B4455;\n",
              "      --fill-color: #D2E3FC;\n",
              "      --hover-bg-color: #434B5C;\n",
              "      --hover-fill-color: #FFFFFF;\n",
              "      --disabled-bg-color: #3B4455;\n",
              "      --disabled-fill-color: #666;\n",
              "  }\n",
              "\n",
              "  .colab-df-quickchart {\n",
              "    background-color: var(--bg-color);\n",
              "    border: none;\n",
              "    border-radius: 50%;\n",
              "    cursor: pointer;\n",
              "    display: none;\n",
              "    fill: var(--fill-color);\n",
              "    height: 32px;\n",
              "    padding: 0;\n",
              "    width: 32px;\n",
              "  }\n",
              "\n",
              "  .colab-df-quickchart:hover {\n",
              "    background-color: var(--hover-bg-color);\n",
              "    box-shadow: 0 1px 2px rgba(60, 64, 67, 0.3), 0 1px 3px 1px rgba(60, 64, 67, 0.15);\n",
              "    fill: var(--button-hover-fill-color);\n",
              "  }\n",
              "\n",
              "  .colab-df-quickchart-complete:disabled,\n",
              "  .colab-df-quickchart-complete:disabled:hover {\n",
              "    background-color: var(--disabled-bg-color);\n",
              "    fill: var(--disabled-fill-color);\n",
              "    box-shadow: none;\n",
              "  }\n",
              "\n",
              "  .colab-df-spinner {\n",
              "    border: 2px solid var(--fill-color);\n",
              "    border-color: transparent;\n",
              "    border-bottom-color: var(--fill-color);\n",
              "    animation:\n",
              "      spin 1s steps(1) infinite;\n",
              "  }\n",
              "\n",
              "  @keyframes spin {\n",
              "    0% {\n",
              "      border-color: transparent;\n",
              "      border-bottom-color: var(--fill-color);\n",
              "      border-left-color: var(--fill-color);\n",
              "    }\n",
              "    20% {\n",
              "      border-color: transparent;\n",
              "      border-left-color: var(--fill-color);\n",
              "      border-top-color: var(--fill-color);\n",
              "    }\n",
              "    30% {\n",
              "      border-color: transparent;\n",
              "      border-left-color: var(--fill-color);\n",
              "      border-top-color: var(--fill-color);\n",
              "      border-right-color: var(--fill-color);\n",
              "    }\n",
              "    40% {\n",
              "      border-color: transparent;\n",
              "      border-right-color: var(--fill-color);\n",
              "      border-top-color: var(--fill-color);\n",
              "    }\n",
              "    60% {\n",
              "      border-color: transparent;\n",
              "      border-right-color: var(--fill-color);\n",
              "    }\n",
              "    80% {\n",
              "      border-color: transparent;\n",
              "      border-right-color: var(--fill-color);\n",
              "      border-bottom-color: var(--fill-color);\n",
              "    }\n",
              "    90% {\n",
              "      border-color: transparent;\n",
              "      border-bottom-color: var(--fill-color);\n",
              "    }\n",
              "  }\n",
              "</style>\n",
              "\n",
              "  <script>\n",
              "    async function quickchart(key) {\n",
              "      const quickchartButtonEl =\n",
              "        document.querySelector('#' + key + ' button');\n",
              "      quickchartButtonEl.disabled = true;  // To prevent multiple clicks.\n",
              "      quickchartButtonEl.classList.add('colab-df-spinner');\n",
              "      try {\n",
              "        const charts = await google.colab.kernel.invokeFunction(\n",
              "            'suggestCharts', [key], {});\n",
              "      } catch (error) {\n",
              "        console.error('Error during call to suggestCharts:', error);\n",
              "      }\n",
              "      quickchartButtonEl.classList.remove('colab-df-spinner');\n",
              "      quickchartButtonEl.classList.add('colab-df-quickchart-complete');\n",
              "    }\n",
              "    (() => {\n",
              "      let quickchartButtonEl =\n",
              "        document.querySelector('#df-ca0bd601-0d41-4906-9c7c-5667ced204a9 button');\n",
              "      quickchartButtonEl.style.display =\n",
              "        google.colab.kernel.accessAllowed ? 'block' : 'none';\n",
              "    })();\n",
              "  </script>\n",
              "</div>\n",
              "\n",
              "    </div>\n",
              "  </div>\n"
            ],
            "text/plain": [
              "         sentiment\n",
              "count  25000.00000\n",
              "mean       0.50000\n",
              "std        0.50001\n",
              "min        0.00000\n",
              "25%        0.00000\n",
              "50%        0.50000\n",
              "75%        1.00000\n",
              "max        1.00000"
            ]
          },
          "execution_count": 24,
          "metadata": {},
          "output_type": "execute_result"
        }
      ],
      "source": [
        "train.describe()"
      ]
    },
    {
      "cell_type": "code",
      "execution_count": 25,
      "metadata": {
        "colab": {
          "base_uri": "https://localhost:8080/",
          "height": 206
        },
        "id": "tLklrfctWZfF",
        "outputId": "45704301-162f-44c7-f350-9ae8dadbc4a7"
      },
      "outputs": [
        {
          "data": {
            "application/vnd.google.colaboratory.intrinsic+json": {
              "summary": "{\n  \"name\": \"train\",\n  \"rows\": 25000,\n  \"fields\": [\n    {\n      \"column\": \"id\",\n      \"properties\": {\n        \"dtype\": \"string\",\n        \"num_unique_values\": 25000,\n        \"samples\": [\n          \"2570_3\",\n          \"4897_8\",\n          \"8485_3\"\n        ],\n        \"semantic_type\": \"\",\n        \"description\": \"\"\n      }\n    },\n    {\n      \"column\": \"sentiment\",\n      \"properties\": {\n        \"dtype\": \"number\",\n        \"std\": 0,\n        \"min\": 0,\n        \"max\": 1,\n        \"num_unique_values\": 2,\n        \"samples\": [\n          0,\n          1\n        ],\n        \"semantic_type\": \"\",\n        \"description\": \"\"\n      }\n    },\n    {\n      \"column\": \"review\",\n      \"properties\": {\n        \"dtype\": \"string\",\n        \"num_unique_values\": 24904,\n        \"samples\": [\n          \"This is not my favorite WIP (\\\\Women in Prison\\\\\\\"), but it is one of the most famous films in the sub-genre. It is was produced by Roger Corman, who at this point had already produced a few WIPs. It is obvious that the film tries to play with the established formula. The movie takes place in an USA prison, not in a \\\\\\\"banana republic\\\\\\\" like most WIP films. I'm not sure if that was a wise move, but it is an acceptable change of pace. Writer-director Demme really gets into his job, always digging for new ways to present a familiar scenario. In fact, he is a little too ambitious for his own good. The filmmaker creates a few surreal dream sequences that are borderline pretentious but it is fun to see how hard he tries to put this film above your average chicks-in-chains flick. But do not worry, Demme still operates within the parameters of the sub-genre. There is plenty of nudity and violence, something that will satisfy hardcore fans. The film is a little slow, but it is very entertaining. The cast is good. Roberta Collins is a WIP veteran, so she does not need an introduction, and Barbara Steel is a hoot as the wheelchair-bound crazy warden. Pam Grier is sorely missed, though.\\\"\",\n          \"In 1972, after his wife left to go her own way, Elvis Presley began dating Linda Thompson. Miss Thompson, a good-humored, long haired, lovely, statuesque beauty queen, is charted to fill a void in Elvis' life. When Elvis' divorce became final, Linda was already in place as the legendary performer's live-in girlfriend and travel companion until 1976.<br /><br />This is a gaudy look at their love affair and companionship. Linda whole-heartedly tending to her lover's needs and desires. And even putting up with his swallowing medications by the handful and introducing her to her own love affair with valium. At times this movie is harsh and dark of heart; a very unattractive look at the 'King' and his queen.<br /><br />Don Johnson is absolutely awful as Elvis. Over acting to the hilt is not attractive. Stephanie Zimbalist lacks the classiness of Linda, but does the job pretty well. Supporting cast includes: John Crawford, Ruta Lee, and Rick Lenz. Watching this twice is more than enough for me, but don't let this review stop you from checking it out. For most Elvis fans that I have conferred with, this is not a favored presentation.\"\n        ],\n        \"semantic_type\": \"\",\n        \"description\": \"\"\n      }\n    }\n  ]\n}",
              "type": "dataframe",
              "variable_name": "train"
            },
            "text/html": [
              "\n",
              "  <div id=\"df-5cf1084c-d933-45e8-9671-117ee956f603\" class=\"colab-df-container\">\n",
              "    <div>\n",
              "<style scoped>\n",
              "    .dataframe tbody tr th:only-of-type {\n",
              "        vertical-align: middle;\n",
              "    }\n",
              "\n",
              "    .dataframe tbody tr th {\n",
              "        vertical-align: top;\n",
              "    }\n",
              "\n",
              "    .dataframe thead th {\n",
              "        text-align: right;\n",
              "    }\n",
              "</style>\n",
              "<table border=\"1\" class=\"dataframe\">\n",
              "  <thead>\n",
              "    <tr style=\"text-align: right;\">\n",
              "      <th></th>\n",
              "      <th>id</th>\n",
              "      <th>sentiment</th>\n",
              "      <th>review</th>\n",
              "    </tr>\n",
              "  </thead>\n",
              "  <tbody>\n",
              "    <tr>\n",
              "      <th>0</th>\n",
              "      <td>5814_8</td>\n",
              "      <td>1</td>\n",
              "      <td>With all this stuff going down at the moment w...</td>\n",
              "    </tr>\n",
              "    <tr>\n",
              "      <th>1</th>\n",
              "      <td>2381_9</td>\n",
              "      <td>1</td>\n",
              "      <td>\\The Classic War of the Worlds\\\" by Timothy Hi...</td>\n",
              "    </tr>\n",
              "    <tr>\n",
              "      <th>2</th>\n",
              "      <td>7759_3</td>\n",
              "      <td>0</td>\n",
              "      <td>The film starts with a manager (Nicholas Bell)...</td>\n",
              "    </tr>\n",
              "    <tr>\n",
              "      <th>3</th>\n",
              "      <td>3630_4</td>\n",
              "      <td>0</td>\n",
              "      <td>It must be assumed that those who praised this...</td>\n",
              "    </tr>\n",
              "    <tr>\n",
              "      <th>4</th>\n",
              "      <td>9495_8</td>\n",
              "      <td>1</td>\n",
              "      <td>Superbly trashy and wondrously unpretentious 8...</td>\n",
              "    </tr>\n",
              "  </tbody>\n",
              "</table>\n",
              "</div>\n",
              "    <div class=\"colab-df-buttons\">\n",
              "\n",
              "  <div class=\"colab-df-container\">\n",
              "    <button class=\"colab-df-convert\" onclick=\"convertToInteractive('df-5cf1084c-d933-45e8-9671-117ee956f603')\"\n",
              "            title=\"Convert this dataframe to an interactive table.\"\n",
              "            style=\"display:none;\">\n",
              "\n",
              "  <svg xmlns=\"http://www.w3.org/2000/svg\" height=\"24px\" viewBox=\"0 -960 960 960\">\n",
              "    <path d=\"M120-120v-720h720v720H120Zm60-500h600v-160H180v160Zm220 220h160v-160H400v160Zm0 220h160v-160H400v160ZM180-400h160v-160H180v160Zm440 0h160v-160H620v160ZM180-180h160v-160H180v160Zm440 0h160v-160H620v160Z\"/>\n",
              "  </svg>\n",
              "    </button>\n",
              "\n",
              "  <style>\n",
              "    .colab-df-container {\n",
              "      display:flex;\n",
              "      gap: 12px;\n",
              "    }\n",
              "\n",
              "    .colab-df-convert {\n",
              "      background-color: #E8F0FE;\n",
              "      border: none;\n",
              "      border-radius: 50%;\n",
              "      cursor: pointer;\n",
              "      display: none;\n",
              "      fill: #1967D2;\n",
              "      height: 32px;\n",
              "      padding: 0 0 0 0;\n",
              "      width: 32px;\n",
              "    }\n",
              "\n",
              "    .colab-df-convert:hover {\n",
              "      background-color: #E2EBFA;\n",
              "      box-shadow: 0px 1px 2px rgba(60, 64, 67, 0.3), 0px 1px 3px 1px rgba(60, 64, 67, 0.15);\n",
              "      fill: #174EA6;\n",
              "    }\n",
              "\n",
              "    .colab-df-buttons div {\n",
              "      margin-bottom: 4px;\n",
              "    }\n",
              "\n",
              "    [theme=dark] .colab-df-convert {\n",
              "      background-color: #3B4455;\n",
              "      fill: #D2E3FC;\n",
              "    }\n",
              "\n",
              "    [theme=dark] .colab-df-convert:hover {\n",
              "      background-color: #434B5C;\n",
              "      box-shadow: 0px 1px 3px 1px rgba(0, 0, 0, 0.15);\n",
              "      filter: drop-shadow(0px 1px 2px rgba(0, 0, 0, 0.3));\n",
              "      fill: #FFFFFF;\n",
              "    }\n",
              "  </style>\n",
              "\n",
              "    <script>\n",
              "      const buttonEl =\n",
              "        document.querySelector('#df-5cf1084c-d933-45e8-9671-117ee956f603 button.colab-df-convert');\n",
              "      buttonEl.style.display =\n",
              "        google.colab.kernel.accessAllowed ? 'block' : 'none';\n",
              "\n",
              "      async function convertToInteractive(key) {\n",
              "        const element = document.querySelector('#df-5cf1084c-d933-45e8-9671-117ee956f603');\n",
              "        const dataTable =\n",
              "          await google.colab.kernel.invokeFunction('convertToInteractive',\n",
              "                                                    [key], {});\n",
              "        if (!dataTable) return;\n",
              "\n",
              "        const docLinkHtml = 'Like what you see? Visit the ' +\n",
              "          '<a target=\"_blank\" href=https://colab.research.google.com/notebooks/data_table.ipynb>data table notebook</a>'\n",
              "          + ' to learn more about interactive tables.';\n",
              "        element.innerHTML = '';\n",
              "        dataTable['output_type'] = 'display_data';\n",
              "        await google.colab.output.renderOutput(dataTable, element);\n",
              "        const docLink = document.createElement('div');\n",
              "        docLink.innerHTML = docLinkHtml;\n",
              "        element.appendChild(docLink);\n",
              "      }\n",
              "    </script>\n",
              "  </div>\n",
              "\n",
              "\n",
              "<div id=\"df-776c1233-611b-4127-87c8-e14e7e82e532\">\n",
              "  <button class=\"colab-df-quickchart\" onclick=\"quickchart('df-776c1233-611b-4127-87c8-e14e7e82e532')\"\n",
              "            title=\"Suggest charts\"\n",
              "            style=\"display:none;\">\n",
              "\n",
              "<svg xmlns=\"http://www.w3.org/2000/svg\" height=\"24px\"viewBox=\"0 0 24 24\"\n",
              "     width=\"24px\">\n",
              "    <g>\n",
              "        <path d=\"M19 3H5c-1.1 0-2 .9-2 2v14c0 1.1.9 2 2 2h14c1.1 0 2-.9 2-2V5c0-1.1-.9-2-2-2zM9 17H7v-7h2v7zm4 0h-2V7h2v10zm4 0h-2v-4h2v4z\"/>\n",
              "    </g>\n",
              "</svg>\n",
              "  </button>\n",
              "\n",
              "<style>\n",
              "  .colab-df-quickchart {\n",
              "      --bg-color: #E8F0FE;\n",
              "      --fill-color: #1967D2;\n",
              "      --hover-bg-color: #E2EBFA;\n",
              "      --hover-fill-color: #174EA6;\n",
              "      --disabled-fill-color: #AAA;\n",
              "      --disabled-bg-color: #DDD;\n",
              "  }\n",
              "\n",
              "  [theme=dark] .colab-df-quickchart {\n",
              "      --bg-color: #3B4455;\n",
              "      --fill-color: #D2E3FC;\n",
              "      --hover-bg-color: #434B5C;\n",
              "      --hover-fill-color: #FFFFFF;\n",
              "      --disabled-bg-color: #3B4455;\n",
              "      --disabled-fill-color: #666;\n",
              "  }\n",
              "\n",
              "  .colab-df-quickchart {\n",
              "    background-color: var(--bg-color);\n",
              "    border: none;\n",
              "    border-radius: 50%;\n",
              "    cursor: pointer;\n",
              "    display: none;\n",
              "    fill: var(--fill-color);\n",
              "    height: 32px;\n",
              "    padding: 0;\n",
              "    width: 32px;\n",
              "  }\n",
              "\n",
              "  .colab-df-quickchart:hover {\n",
              "    background-color: var(--hover-bg-color);\n",
              "    box-shadow: 0 1px 2px rgba(60, 64, 67, 0.3), 0 1px 3px 1px rgba(60, 64, 67, 0.15);\n",
              "    fill: var(--button-hover-fill-color);\n",
              "  }\n",
              "\n",
              "  .colab-df-quickchart-complete:disabled,\n",
              "  .colab-df-quickchart-complete:disabled:hover {\n",
              "    background-color: var(--disabled-bg-color);\n",
              "    fill: var(--disabled-fill-color);\n",
              "    box-shadow: none;\n",
              "  }\n",
              "\n",
              "  .colab-df-spinner {\n",
              "    border: 2px solid var(--fill-color);\n",
              "    border-color: transparent;\n",
              "    border-bottom-color: var(--fill-color);\n",
              "    animation:\n",
              "      spin 1s steps(1) infinite;\n",
              "  }\n",
              "\n",
              "  @keyframes spin {\n",
              "    0% {\n",
              "      border-color: transparent;\n",
              "      border-bottom-color: var(--fill-color);\n",
              "      border-left-color: var(--fill-color);\n",
              "    }\n",
              "    20% {\n",
              "      border-color: transparent;\n",
              "      border-left-color: var(--fill-color);\n",
              "      border-top-color: var(--fill-color);\n",
              "    }\n",
              "    30% {\n",
              "      border-color: transparent;\n",
              "      border-left-color: var(--fill-color);\n",
              "      border-top-color: var(--fill-color);\n",
              "      border-right-color: var(--fill-color);\n",
              "    }\n",
              "    40% {\n",
              "      border-color: transparent;\n",
              "      border-right-color: var(--fill-color);\n",
              "      border-top-color: var(--fill-color);\n",
              "    }\n",
              "    60% {\n",
              "      border-color: transparent;\n",
              "      border-right-color: var(--fill-color);\n",
              "    }\n",
              "    80% {\n",
              "      border-color: transparent;\n",
              "      border-right-color: var(--fill-color);\n",
              "      border-bottom-color: var(--fill-color);\n",
              "    }\n",
              "    90% {\n",
              "      border-color: transparent;\n",
              "      border-bottom-color: var(--fill-color);\n",
              "    }\n",
              "  }\n",
              "</style>\n",
              "\n",
              "  <script>\n",
              "    async function quickchart(key) {\n",
              "      const quickchartButtonEl =\n",
              "        document.querySelector('#' + key + ' button');\n",
              "      quickchartButtonEl.disabled = true;  // To prevent multiple clicks.\n",
              "      quickchartButtonEl.classList.add('colab-df-spinner');\n",
              "      try {\n",
              "        const charts = await google.colab.kernel.invokeFunction(\n",
              "            'suggestCharts', [key], {});\n",
              "      } catch (error) {\n",
              "        console.error('Error during call to suggestCharts:', error);\n",
              "      }\n",
              "      quickchartButtonEl.classList.remove('colab-df-spinner');\n",
              "      quickchartButtonEl.classList.add('colab-df-quickchart-complete');\n",
              "    }\n",
              "    (() => {\n",
              "      let quickchartButtonEl =\n",
              "        document.querySelector('#df-776c1233-611b-4127-87c8-e14e7e82e532 button');\n",
              "      quickchartButtonEl.style.display =\n",
              "        google.colab.kernel.accessAllowed ? 'block' : 'none';\n",
              "    })();\n",
              "  </script>\n",
              "</div>\n",
              "\n",
              "    </div>\n",
              "  </div>\n"
            ],
            "text/plain": [
              "       id  sentiment                                             review\n",
              "0  5814_8          1  With all this stuff going down at the moment w...\n",
              "1  2381_9          1  \\The Classic War of the Worlds\\\" by Timothy Hi...\n",
              "2  7759_3          0  The film starts with a manager (Nicholas Bell)...\n",
              "3  3630_4          0  It must be assumed that those who praised this...\n",
              "4  9495_8          1  Superbly trashy and wondrously unpretentious 8..."
            ]
          },
          "execution_count": 25,
          "metadata": {},
          "output_type": "execute_result"
        }
      ],
      "source": [
        "train.head()"
      ]
    },
    {
      "cell_type": "code",
      "execution_count": 26,
      "metadata": {
        "colab": {
          "base_uri": "https://localhost:8080/"
        },
        "id": "I90nmWngWZfF",
        "outputId": "6bbdfceb-566f-4329-b053-62a31d152d1e"
      },
      "outputs": [
        {
          "name": "stdout",
          "output_type": "stream",
          "text": [
            "(25000,)\n"
          ]
        }
      ],
      "source": [
        "Yt=train['sentiment']\n",
        "Xt=train['review']\n",
        "Xt=np.array(Xt)\n",
        "Yt=np.array(Yt)\n",
        "\n",
        "print (Xt.shape)"
      ]
    },
    {
      "cell_type": "code",
      "execution_count": 27,
      "metadata": {
        "id": "u6rEknB1WZfF"
      },
      "outputs": [],
      "source": [
        "#read test set...\n",
        "test=pd.read_csv('/content/testData.tsv',sep='\\t')"
      ]
    },
    {
      "cell_type": "code",
      "execution_count": 28,
      "metadata": {
        "colab": {
          "base_uri": "https://localhost:8080/",
          "height": 206
        },
        "id": "jYc3gd1JWZfG",
        "outputId": "06cea587-0dd6-48e0-df5d-b019116eb375"
      },
      "outputs": [
        {
          "data": {
            "application/vnd.google.colaboratory.intrinsic+json": {
              "summary": "{\n  \"name\": \"test\",\n  \"rows\": 25000,\n  \"fields\": [\n    {\n      \"column\": \"id\",\n      \"properties\": {\n        \"dtype\": \"string\",\n        \"num_unique_values\": 25000,\n        \"samples\": [\n          \"10610_7\",\n          \"10557_8\",\n          \"3118_9\"\n        ],\n        \"semantic_type\": \"\",\n        \"description\": \"\"\n      }\n    },\n    {\n      \"column\": \"review\",\n      \"properties\": {\n        \"dtype\": \"string\",\n        \"num_unique_values\": 24801,\n        \"samples\": [\n          \"(Spoilers more than likely... nothing really important you couldn't have figured out yourselves) Yeah, it's really weird. I rented it at a Blockbuster for the reason it had absolutely NO description of the movie on the back of the box, only a list of the bands that had songs in it. But after that, I had a dikens of a time finding it, even here on IMDB. I kept confusing it with \\\\Night of the Demons,\\\\\\\" but, you know, they're basically the same thing. <br /><br />The parts I loved most about this movie was the whole thing in the garage. That black gym guy was hilarious the way he screamed ALL the time. Even when screaming wasn't really necessary, he'd let out a \\\\\\\"LISTEN UP NOW!! BLOCK THE DOOR WITH CARS!!!!\\\\\\\" and so, they'd run cars head on into other cars. But, then he got balls and shafted by a zombie with a broom stick I believe it was. The other part that kinda caught my attention was the part with the crash outside the building with the guys that they girl didn't want to come over... To what significant aspect of the movie did that give us? What was it? Why was it there? Why did the movie end with a guy breaking the TV's in a studio? I saw that there was a zombie running towards the screen, but he was kinda far away. I mean, he could have just turned the TV off. Yes, this movie was shot on a whim and yes, I hated it. Good day...\\\"\",\n          \"\\\\Classe tous risques\\\\\\\" feels like the granddaddy of \\\\\\\"The Sopranos\\\\\\\" in mixing the criminal and the domestic, and of the buddy film to feel as contemporary as \\\\\\\"Reservoir Dogs.\\\\\\\"<br /><br />Even as these gangsters are affectionately entangled with wives, children, lovers and parents, they are coldly ruthless, and we are constantly reminded they are, no matter what warm situation we also see them in. They can tousle a kid's hair - and then shoot a threat in cold blood. The key is loyalty, and the male camaraderie is beautifully conveyed, without ethnic or class stereotypes, even as their web of past obligations and pay backs narrows into suspicion and paranoia, as the old gang is in various stages of parole, retirement, out on bail or into new, less profitable ventures. An intense accusation is of sending a stranger to perform an old escape scenario. It is a high point of emotion when a wife is told off that she's not the one the gangster is friends with, while virtually the only time we hear music on the soundtrack is when he recalls his wife.<br /><br />Streetscapes in Italy and France are marvelously used, in blinding daylight to dark water and highways, from the opening set up of a pair of brazen robbers -- who are traveling with one's wife and two kids. Rugged, craggy Lino Ventura captures the screen immediately as the criminal dad. And the second thug is clearly a casually avuncular presence in their lives, as they smoothly coordinate the theft and escape, in cars, buses, on boats and motorcycles, in easy tandem. This is not the clich\\u00e9 crusty old guy softened with the big-eyed orphan; these are their jobs and their families and they intersect in horrific ways.<br /><br />The film pulls no punches in unexpectedly killing off characters, directly and as collateral damage, and challenging our sympathy for them, right through to the unsentimental end, which is probably why there was never an American remake. <br /><br />It seems so fresh that it's not until Jean-Paul Belmondo enters almost a third of the way into the film, looking so insouciant as a young punk, that one realizes that this is from 1960. Sultry Sandra Milo has smart and terrific chemistry with him, from an ambulance to an elevator to a hospital bed.<br /><br />While the Film Forum was showing a new 35 mm print with newly translated subtitles, it was not pristine. The program notes explained that the title refers to a kind of insurance policy and is pun on \\\\\\\"tourist class.\\\\\\\"\\\"\",\n          \"*Warning: 1 tiny inconsequential spoiler* You're right. This was no Bridges of Madison County. As soon as the lonely woman and Richard Gere checked into the big empty hotel, it was a foregone conclusion something kind of fun would happen. The question is: how will it come about? The answer is some stupid connect-the-dots story not worth sitting through. In one supposed bonding experience, they get drunk and clean out the cupboard of old cans.(That was my spoiler.) And the next day they put them back. LOL It wasn't compelling AT ALL. I'm an old married lady like the one in the movie and MY friendships are more interesting than HER romance with Richard Gere. LOL . . . It did have that advantage. You walk away and go, oh brother . . . even I could have written something more believable than that. I guess my life isn't quite as dull as I thought it was if I can scoff at a romance with Richard Gere. LOL! And that friend inherited that totally contemporary, probably computer-generated mansion, resting half in the ocean, from her GRANDMOTHER who built it AFTER THE CIVIL WAR??? Maybe her grandmother is Oprah and this was WAY after the Civil War? And yes, WHERE WAS THE EMAIL? What alternative universe do these people live in? I never want to see another movie that pretends we don't have email, and facebook,and texting. And OK, maybe these people have a horrible aversion to delivering news over the phone, but don't ask me to believe anyone in this age of instant communication that someone just drops into your life without calling first.\"\n        ],\n        \"semantic_type\": \"\",\n        \"description\": \"\"\n      }\n    }\n  ]\n}",
              "type": "dataframe",
              "variable_name": "test"
            },
            "text/html": [
              "\n",
              "  <div id=\"df-7932924f-7d14-4809-9e43-554648cf4ccc\" class=\"colab-df-container\">\n",
              "    <div>\n",
              "<style scoped>\n",
              "    .dataframe tbody tr th:only-of-type {\n",
              "        vertical-align: middle;\n",
              "    }\n",
              "\n",
              "    .dataframe tbody tr th {\n",
              "        vertical-align: top;\n",
              "    }\n",
              "\n",
              "    .dataframe thead th {\n",
              "        text-align: right;\n",
              "    }\n",
              "</style>\n",
              "<table border=\"1\" class=\"dataframe\">\n",
              "  <thead>\n",
              "    <tr style=\"text-align: right;\">\n",
              "      <th></th>\n",
              "      <th>id</th>\n",
              "      <th>review</th>\n",
              "    </tr>\n",
              "  </thead>\n",
              "  <tbody>\n",
              "    <tr>\n",
              "      <th>0</th>\n",
              "      <td>12311_10</td>\n",
              "      <td>Naturally in a film who's main themes are of m...</td>\n",
              "    </tr>\n",
              "    <tr>\n",
              "      <th>1</th>\n",
              "      <td>8348_2</td>\n",
              "      <td>This movie is a disaster within a disaster fil...</td>\n",
              "    </tr>\n",
              "    <tr>\n",
              "      <th>2</th>\n",
              "      <td>5828_4</td>\n",
              "      <td>All in all, this is a movie for kids. We saw i...</td>\n",
              "    </tr>\n",
              "    <tr>\n",
              "      <th>3</th>\n",
              "      <td>7186_2</td>\n",
              "      <td>Afraid of the Dark left me with the impression...</td>\n",
              "    </tr>\n",
              "    <tr>\n",
              "      <th>4</th>\n",
              "      <td>12128_7</td>\n",
              "      <td>A very accurate depiction of small time mob li...</td>\n",
              "    </tr>\n",
              "  </tbody>\n",
              "</table>\n",
              "</div>\n",
              "    <div class=\"colab-df-buttons\">\n",
              "\n",
              "  <div class=\"colab-df-container\">\n",
              "    <button class=\"colab-df-convert\" onclick=\"convertToInteractive('df-7932924f-7d14-4809-9e43-554648cf4ccc')\"\n",
              "            title=\"Convert this dataframe to an interactive table.\"\n",
              "            style=\"display:none;\">\n",
              "\n",
              "  <svg xmlns=\"http://www.w3.org/2000/svg\" height=\"24px\" viewBox=\"0 -960 960 960\">\n",
              "    <path d=\"M120-120v-720h720v720H120Zm60-500h600v-160H180v160Zm220 220h160v-160H400v160Zm0 220h160v-160H400v160ZM180-400h160v-160H180v160Zm440 0h160v-160H620v160ZM180-180h160v-160H180v160Zm440 0h160v-160H620v160Z\"/>\n",
              "  </svg>\n",
              "    </button>\n",
              "\n",
              "  <style>\n",
              "    .colab-df-container {\n",
              "      display:flex;\n",
              "      gap: 12px;\n",
              "    }\n",
              "\n",
              "    .colab-df-convert {\n",
              "      background-color: #E8F0FE;\n",
              "      border: none;\n",
              "      border-radius: 50%;\n",
              "      cursor: pointer;\n",
              "      display: none;\n",
              "      fill: #1967D2;\n",
              "      height: 32px;\n",
              "      padding: 0 0 0 0;\n",
              "      width: 32px;\n",
              "    }\n",
              "\n",
              "    .colab-df-convert:hover {\n",
              "      background-color: #E2EBFA;\n",
              "      box-shadow: 0px 1px 2px rgba(60, 64, 67, 0.3), 0px 1px 3px 1px rgba(60, 64, 67, 0.15);\n",
              "      fill: #174EA6;\n",
              "    }\n",
              "\n",
              "    .colab-df-buttons div {\n",
              "      margin-bottom: 4px;\n",
              "    }\n",
              "\n",
              "    [theme=dark] .colab-df-convert {\n",
              "      background-color: #3B4455;\n",
              "      fill: #D2E3FC;\n",
              "    }\n",
              "\n",
              "    [theme=dark] .colab-df-convert:hover {\n",
              "      background-color: #434B5C;\n",
              "      box-shadow: 0px 1px 3px 1px rgba(0, 0, 0, 0.15);\n",
              "      filter: drop-shadow(0px 1px 2px rgba(0, 0, 0, 0.3));\n",
              "      fill: #FFFFFF;\n",
              "    }\n",
              "  </style>\n",
              "\n",
              "    <script>\n",
              "      const buttonEl =\n",
              "        document.querySelector('#df-7932924f-7d14-4809-9e43-554648cf4ccc button.colab-df-convert');\n",
              "      buttonEl.style.display =\n",
              "        google.colab.kernel.accessAllowed ? 'block' : 'none';\n",
              "\n",
              "      async function convertToInteractive(key) {\n",
              "        const element = document.querySelector('#df-7932924f-7d14-4809-9e43-554648cf4ccc');\n",
              "        const dataTable =\n",
              "          await google.colab.kernel.invokeFunction('convertToInteractive',\n",
              "                                                    [key], {});\n",
              "        if (!dataTable) return;\n",
              "\n",
              "        const docLinkHtml = 'Like what you see? Visit the ' +\n",
              "          '<a target=\"_blank\" href=https://colab.research.google.com/notebooks/data_table.ipynb>data table notebook</a>'\n",
              "          + ' to learn more about interactive tables.';\n",
              "        element.innerHTML = '';\n",
              "        dataTable['output_type'] = 'display_data';\n",
              "        await google.colab.output.renderOutput(dataTable, element);\n",
              "        const docLink = document.createElement('div');\n",
              "        docLink.innerHTML = docLinkHtml;\n",
              "        element.appendChild(docLink);\n",
              "      }\n",
              "    </script>\n",
              "  </div>\n",
              "\n",
              "\n",
              "<div id=\"df-6912a584-1971-4fb4-ab03-24886a68aa43\">\n",
              "  <button class=\"colab-df-quickchart\" onclick=\"quickchart('df-6912a584-1971-4fb4-ab03-24886a68aa43')\"\n",
              "            title=\"Suggest charts\"\n",
              "            style=\"display:none;\">\n",
              "\n",
              "<svg xmlns=\"http://www.w3.org/2000/svg\" height=\"24px\"viewBox=\"0 0 24 24\"\n",
              "     width=\"24px\">\n",
              "    <g>\n",
              "        <path d=\"M19 3H5c-1.1 0-2 .9-2 2v14c0 1.1.9 2 2 2h14c1.1 0 2-.9 2-2V5c0-1.1-.9-2-2-2zM9 17H7v-7h2v7zm4 0h-2V7h2v10zm4 0h-2v-4h2v4z\"/>\n",
              "    </g>\n",
              "</svg>\n",
              "  </button>\n",
              "\n",
              "<style>\n",
              "  .colab-df-quickchart {\n",
              "      --bg-color: #E8F0FE;\n",
              "      --fill-color: #1967D2;\n",
              "      --hover-bg-color: #E2EBFA;\n",
              "      --hover-fill-color: #174EA6;\n",
              "      --disabled-fill-color: #AAA;\n",
              "      --disabled-bg-color: #DDD;\n",
              "  }\n",
              "\n",
              "  [theme=dark] .colab-df-quickchart {\n",
              "      --bg-color: #3B4455;\n",
              "      --fill-color: #D2E3FC;\n",
              "      --hover-bg-color: #434B5C;\n",
              "      --hover-fill-color: #FFFFFF;\n",
              "      --disabled-bg-color: #3B4455;\n",
              "      --disabled-fill-color: #666;\n",
              "  }\n",
              "\n",
              "  .colab-df-quickchart {\n",
              "    background-color: var(--bg-color);\n",
              "    border: none;\n",
              "    border-radius: 50%;\n",
              "    cursor: pointer;\n",
              "    display: none;\n",
              "    fill: var(--fill-color);\n",
              "    height: 32px;\n",
              "    padding: 0;\n",
              "    width: 32px;\n",
              "  }\n",
              "\n",
              "  .colab-df-quickchart:hover {\n",
              "    background-color: var(--hover-bg-color);\n",
              "    box-shadow: 0 1px 2px rgba(60, 64, 67, 0.3), 0 1px 3px 1px rgba(60, 64, 67, 0.15);\n",
              "    fill: var(--button-hover-fill-color);\n",
              "  }\n",
              "\n",
              "  .colab-df-quickchart-complete:disabled,\n",
              "  .colab-df-quickchart-complete:disabled:hover {\n",
              "    background-color: var(--disabled-bg-color);\n",
              "    fill: var(--disabled-fill-color);\n",
              "    box-shadow: none;\n",
              "  }\n",
              "\n",
              "  .colab-df-spinner {\n",
              "    border: 2px solid var(--fill-color);\n",
              "    border-color: transparent;\n",
              "    border-bottom-color: var(--fill-color);\n",
              "    animation:\n",
              "      spin 1s steps(1) infinite;\n",
              "  }\n",
              "\n",
              "  @keyframes spin {\n",
              "    0% {\n",
              "      border-color: transparent;\n",
              "      border-bottom-color: var(--fill-color);\n",
              "      border-left-color: var(--fill-color);\n",
              "    }\n",
              "    20% {\n",
              "      border-color: transparent;\n",
              "      border-left-color: var(--fill-color);\n",
              "      border-top-color: var(--fill-color);\n",
              "    }\n",
              "    30% {\n",
              "      border-color: transparent;\n",
              "      border-left-color: var(--fill-color);\n",
              "      border-top-color: var(--fill-color);\n",
              "      border-right-color: var(--fill-color);\n",
              "    }\n",
              "    40% {\n",
              "      border-color: transparent;\n",
              "      border-right-color: var(--fill-color);\n",
              "      border-top-color: var(--fill-color);\n",
              "    }\n",
              "    60% {\n",
              "      border-color: transparent;\n",
              "      border-right-color: var(--fill-color);\n",
              "    }\n",
              "    80% {\n",
              "      border-color: transparent;\n",
              "      border-right-color: var(--fill-color);\n",
              "      border-bottom-color: var(--fill-color);\n",
              "    }\n",
              "    90% {\n",
              "      border-color: transparent;\n",
              "      border-bottom-color: var(--fill-color);\n",
              "    }\n",
              "  }\n",
              "</style>\n",
              "\n",
              "  <script>\n",
              "    async function quickchart(key) {\n",
              "      const quickchartButtonEl =\n",
              "        document.querySelector('#' + key + ' button');\n",
              "      quickchartButtonEl.disabled = true;  // To prevent multiple clicks.\n",
              "      quickchartButtonEl.classList.add('colab-df-spinner');\n",
              "      try {\n",
              "        const charts = await google.colab.kernel.invokeFunction(\n",
              "            'suggestCharts', [key], {});\n",
              "      } catch (error) {\n",
              "        console.error('Error during call to suggestCharts:', error);\n",
              "      }\n",
              "      quickchartButtonEl.classList.remove('colab-df-spinner');\n",
              "      quickchartButtonEl.classList.add('colab-df-quickchart-complete');\n",
              "    }\n",
              "    (() => {\n",
              "      let quickchartButtonEl =\n",
              "        document.querySelector('#df-6912a584-1971-4fb4-ab03-24886a68aa43 button');\n",
              "      quickchartButtonEl.style.display =\n",
              "        google.colab.kernel.accessAllowed ? 'block' : 'none';\n",
              "    })();\n",
              "  </script>\n",
              "</div>\n",
              "\n",
              "    </div>\n",
              "  </div>\n"
            ],
            "text/plain": [
              "         id                                             review\n",
              "0  12311_10  Naturally in a film who's main themes are of m...\n",
              "1    8348_2  This movie is a disaster within a disaster fil...\n",
              "2    5828_4  All in all, this is a movie for kids. We saw i...\n",
              "3    7186_2  Afraid of the Dark left me with the impression...\n",
              "4   12128_7  A very accurate depiction of small time mob li..."
            ]
          },
          "execution_count": 28,
          "metadata": {},
          "output_type": "execute_result"
        }
      ],
      "source": [
        "test.head()"
      ]
    },
    {
      "cell_type": "markdown",
      "metadata": {
        "id": "rYvBbGRaWZfG"
      },
      "source": [
        "#### Training Time"
      ]
    },
    {
      "cell_type": "code",
      "execution_count": 29,
      "metadata": {
        "id": "IiDPFYp6WZfG"
      },
      "outputs": [],
      "source": [
        "# Let's split the training data into two halves and test our accuracy...\n",
        "traindata,trainlabels,testdata,testlabels=t.split_data(Xt.reshape((Xt.shape[0],1)),Yt)\n",
        "classes=np.unique(trainlabels)"
      ]
    },
    {
      "cell_type": "code",
      "execution_count": 30,
      "metadata": {
        "colab": {
          "base_uri": "https://localhost:8080/"
        },
        "id": "vN1xELUiWZfG",
        "outputId": "196a9ad3-6547-495c-a402-1011b783afdc"
      },
      "outputs": [
        {
          "name": "stdout",
          "output_type": "stream",
          "text": [
            "[Info] training a classifier for following classes 0, 1\n",
            "[Info] Accuracy = 0.8345333333333333\n"
          ]
        }
      ],
      "source": [
        "# Now lets go and train the model and see its performance...\n",
        "print ('[Info] training a classifier for following classes {}, {}'.format(classes[0],classes[1]))\n",
        "nb=NaiveBayes(classes)\n",
        "nb.train(traindata,trainlabels)\n",
        "pclasses=nb.test(testdata)\n",
        "acc=np.sum(pclasses==testlabels)/float(testlabels.shape[0])\n",
        "print (\"[Info] Accuracy = {}\".format(acc) )"
      ]
    },
    {
      "cell_type": "markdown",
      "metadata": {
        "id": "9mqQ_V9kWZfH"
      },
      "source": [
        "#### Cross-Validation Time..."
      ]
    },
    {
      "cell_type": "code",
      "execution_count": 31,
      "metadata": {
        "colab": {
          "base_uri": "https://localhost:8080/"
        },
        "id": "1aLB-V8XWZfH",
        "outputId": "818ab36f-041d-4392-8769-fd37d30a660d"
      },
      "outputs": [
        {
          "name": "stdout",
          "output_type": "stream",
          "text": [
            "Generating CV data for 2 classes\n",
            "(22500, 1) (2500, 1)\n",
            "(22500, 1) (2500, 1)\n",
            "(22500, 1) (2500, 1)\n",
            "(22500, 1) (2500, 1)\n",
            "(22500, 1) (2500, 1)\n",
            "(22500, 1) (2500, 1)\n",
            "(22500, 1) (2500, 1)\n",
            "(22500, 1) (2500, 1)\n",
            "(22500, 1) (2500, 1)\n",
            "(22500, 1) (2500, 1)\n"
          ]
        }
      ],
      "source": [
        "#Split the training data into 10 folds and test classifiers performance...\n",
        "\n",
        "nfolds=10\n",
        "folds=t.generate_folds(Xt.reshape((Xt.shape[0],1)),Yt,nfolds) # generate folds for\n",
        "for k in arange(len(folds)):\n",
        "    print (folds[k][0].shape, folds[k][2].shape)"
      ]
    },
    {
      "cell_type": "code",
      "execution_count": 32,
      "metadata": {
        "colab": {
          "base_uri": "https://localhost:8080/"
        },
        "id": "nXZFSrtSWZfH",
        "outputId": "25618b0d-b66e-41b6-d7b2-9b2ae1057182"
      },
      "outputs": [
        {
          "name": "stdout",
          "output_type": "stream",
          "text": [
            "[Info] Fold 1 Accuracy = 0.8432\n",
            "[Info] Fold 2 Accuracy = 0.8508\n",
            "[Info] Fold 3 Accuracy = 0.8632\n",
            "[Info] Fold 4 Accuracy = 0.8452\n",
            "[Info] Fold 5 Accuracy = 0.8308\n",
            "[Info] Fold 6 Accuracy = 0.8396\n",
            "[Info] Fold 7 Accuracy = 0.854\n",
            "[Info] Fold 8 Accuracy = 0.8356\n",
            "[Info] Fold 9 Accuracy = 0.8488\n",
            "[Info] Fold 10 Accuracy = 0.8392\n",
            "[0.8432, 0.8508, 0.8632, 0.8452, 0.8308, 0.8396, 0.854, 0.8356, 0.8488, 0.8392]\n",
            "[Info] Mean Accuracy = 0.8450399999999998\n"
          ]
        }
      ],
      "source": [
        "# As it takes time, so becareful it can cause your machine into red hot oven\n",
        "totacc=[]\n",
        "classes=np.unique(Yt)\n",
        "\n",
        "for k in range(nfolds):\n",
        "    nb=NaiveBayes(classes)\n",
        "\n",
        "    traindata=folds[k][0]\n",
        "    trainlabels=folds[k][1]\n",
        "\n",
        "    #Lets first train the classifier\n",
        "    nb.train(traindata,trainlabels)\n",
        "\n",
        "    testdata=folds[k][2]\n",
        "    testlabels=folds[k][3]\n",
        "\n",
        "    #Lets test the classifier\n",
        "    pclasses= nb.test(testdata)\n",
        "\n",
        "    acc=np.sum(pclasses==testlabels)/float(testlabels.shape[0])\n",
        "    print (\"[Info] Fold {} Accuracy = {}\".format(k+1, acc) )\n",
        "\n",
        "    totacc.append(acc)\n",
        "\n",
        "print (totacc)\n",
        "print ('[Info] Mean Accuracy =', np.mean(totacc))"
      ]
    },
    {
      "cell_type": "markdown",
      "metadata": {
        "id": "9as0QWCqWZfI"
      },
      "source": [
        "# Now let's train on the complete dataset and test on the provided test set..."
      ]
    },
    {
      "cell_type": "code",
      "execution_count": 33,
      "metadata": {
        "colab": {
          "base_uri": "https://localhost:8080/"
        },
        "id": "L4QMtOmmWZfI",
        "outputId": "5cb7d17d-c098-4381-c4f2-5150f4272328"
      },
      "outputs": [
        {
          "name": "stdout",
          "output_type": "stream",
          "text": [
            "Training a Classifier on Full training set with classes = [0 1]\n"
          ]
        }
      ],
      "source": [
        "classes= np.unique(Yt)\n",
        "print ('Training a Classifier on Full training set with classes =', classes)\n",
        "nb=NaiveBayes(classes)\n",
        "nb.train(Xt.reshape(Xt.shape[0],1),Yt)"
      ]
    },
    {
      "cell_type": "code",
      "execution_count": null,
      "metadata": {
        "collapsed": true,
        "id": "6kTqLyy_WZfI"
      },
      "outputs": [],
      "source": [
        "#Get the test data...\n",
        "Xtest=np.array(test['review'])\n",
        "Xtest=np.array(Xtest.reshape((Xtest.shape[0],1)))\n",
        "#test the classifier on the provided test set...\n",
        "pclasses=nb.test(Xtest)"
      ]
    },
    {
      "cell_type": "code",
      "execution_count": null,
      "metadata": {
        "collapsed": true,
        "id": "vNcRY-MkWZfI"
      },
      "outputs": [],
      "source": [
        "#write the result in the kaggle's required format\n",
        "output = pd.DataFrame( data={\"id\":test[\"id\"], \"sentiment\":pclasses} )\n",
        "\n",
        "# Use pandas to write the comma-separated output file\n",
        "output.to_csv( \"Naive_bays_Bag_of_Words_model.csv\", index=False, quoting=3 )"
      ]
    },
    {
      "cell_type": "markdown",
      "metadata": {
        "id": "MxRHqjTnWZfI"
      },
      "source": [
        "# Time to Upload the prediction to Kaggle...\n",
        "\n",
        "Now upload the result on the Kaggle and see your ranking and score. Using this simple method you can have an accuracy of around 0.80960."
      ]
    },
    {
      "cell_type": "markdown",
      "metadata": {
        "id": "xmBUEakvWZfJ"
      },
      "source": [
        "# Improvement by Excluding Stop Words...\n",
        "\n",
        "You can improve your score further by excluding the commonly occuring words (also known as stop words) in the English language.\n",
        "\n"
      ]
    },
    {
      "cell_type": "code",
      "execution_count": null,
      "metadata": {
        "id": "Crd6ClYwWZfR"
      },
      "outputs": [],
      "source": [
        "#read and create a set of stop\n",
        "stopwords=set(t.read_txt_file('./data/sentiment/data/english.stop'))\n",
        "print (stopwords)"
      ]
    },
    {
      "cell_type": "markdown",
      "metadata": {
        "id": "BvD-5GLCWZfS"
      },
      "source": [
        "Now you can re-build the model by excluding these words and again upload your results on Kaggle.\n",
        "\n",
        "Doing this simple trick can further improve your accuracy to 0.81768.\n",
        "\n",
        "For final submission attach the screen-shot of the leader-board with your score\n",
        "\n",
        "Insert ScreenShot of Leader-board Below\n",
        "----------------------------------------\n"
      ]
    },
    {
      "cell_type": "code",
      "execution_count": 34,
      "metadata": {
        "colab": {
          "base_uri": "https://localhost:8080/",
          "height": 309
        },
        "id": "EydpCSmUayjf",
        "outputId": "69782bb8-9583-46ac-d630-c159917434bb"
      },
      "outputs": [
        {
          "data": {
            "image/png": "[encoded data removed]",
            "text/plain": [
              "<Figure size 640x480 with 1 Axes>"
            ]
          },
          "metadata": {},
          "output_type": "display_data"
        }
      ],
      "source": [
        "import matplotlib.pyplot as plt\n",
        "import matplotlib.image as mpimg\n",
        "\n",
        "img = mpimg.imread('/content/Kaggle_Submission.PNG') #Replace \"image.jpg\" with the path of your image\n",
        "plt.imshow(img)\n",
        "plt.axis('off')\n",
        "plt.show()"
      ]
    },
    {
      "cell_type": "markdown",
      "metadata": {
        "id": "61IgEwppgAv8"
      },
      "source": [
        "![Kaggle_Submission.PNG](data:image/png;base64,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![Kaggle_Submission.PNG](data:image/png;base64,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))"
      ]
    },
    {
      "cell_type": "markdown",
      "metadata": {
        "id": "OgRS_ceSf-0A"
      },
      "source": []
    }
  ],
  "metadata": {
    "anaconda-cloud": {},
    "colab": {
      "provenance": []
    },
    "kernelspec": {
      "display_name": "Python 3 (ipykernel)",
      "language": "python",
      "name": "python3"
    },
    "language_info": {
      "codemirror_mode": {
        "name": "ipython",
        "version": 3
      },
      "file_extension": ".py",
      "mimetype": "text/x-python",
      "name": "python",
      "nbconvert_exporter": "python",
      "pygments_lexer": "ipython3",
      "version": "3.12.4"
    }
  },
  "nbformat": 4,
  "nbformat_minor": 0
}
